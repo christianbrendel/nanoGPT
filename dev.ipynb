{
 "cells": [
  {
   "cell_type": "code",
   "execution_count": 1,
   "metadata": {},
   "outputs": [],
   "source": [
    "# autoreload\n",
    "%load_ext autoreload\n",
    "%autoreload 2"
   ]
  },
  {
   "cell_type": "code",
   "execution_count": 2,
   "metadata": {},
   "outputs": [],
   "source": [
    "import torch\n",
    "import torch.nn as nn\n",
    "import torch.nn.functional as F\n",
    "\n",
    "from model import *"
   ]
  },
  {
   "cell_type": "code",
   "execution_count": 3,
   "metadata": {},
   "outputs": [],
   "source": [
    "# Input dimensions\n",
    "batch_size = 27\n",
    "c = 11\n",
    "\n",
    "# Model parameters\n",
    "d_model = 64\n",
    "d_head = 17\n",
    "n_heads = 5\n",
    "d_inner = 123\n",
    "vocab_size = 26\n",
    "n_blocks = 6\n",
    "\n",
    "# Device\n",
    "device = torch.device('cuda' if torch.cuda.is_available() else 'cpu')"
   ]
  },
  {
   "cell_type": "code",
   "execution_count": 4,
   "metadata": {},
   "outputs": [
    {
     "name": "stdout",
     "output_type": "stream",
     "text": [
      "torch.Size([27, 11, 64]) -> torch.Size([27, 11, 17])\n"
     ]
    }
   ],
   "source": [
    "# Attention Head\n",
    "\n",
    "attn_head = AttentionHead(d_model=d_model, d_head=d_head).to(device)\n",
    "\n",
    "x = torch.randn(batch_size, c, d_model).to(device)\n",
    "o = attn_head(x)\n",
    "\n",
    "print(f\"{x.shape} -> {o.shape}\")"
   ]
  },
  {
   "cell_type": "code",
   "execution_count": 5,
   "metadata": {},
   "outputs": [
    {
     "name": "stdout",
     "output_type": "stream",
     "text": [
      "torch.Size([27, 11, 64]) -> torch.Size([27, 11, 64])\n"
     ]
    }
   ],
   "source": [
    "# Multi-Head Attention\n",
    "\n",
    "mha = MultiHeadAttention(d_model=d_model, n_heads=n_heads, d_head=d_head).to(device)\n",
    "\n",
    "x = torch.randn(batch_size, c, d_model).to(device)\n",
    "x_new = mha(x)\n",
    "\n",
    "print(f\"{x.shape} -> {x_new.shape}\")"
   ]
  },
  {
   "cell_type": "code",
   "execution_count": 6,
   "metadata": {},
   "outputs": [
    {
     "name": "stdout",
     "output_type": "stream",
     "text": [
      "torch.Size([27, 11, 64]) -> torch.Size([27, 11, 64])\n"
     ]
    }
   ],
   "source": [
    "# Feed Forward\n",
    "\n",
    "ff = FeedForward(d_model=d_model, d_inner=d_inner).to(device)\n",
    "\n",
    "x = torch.randn(batch_size, c, d_model).to(device)\n",
    "x_new = ff(x)\n",
    "\n",
    "print(f\"{x.shape} -> {x_new.shape}\")"
   ]
  },
  {
   "cell_type": "code",
   "execution_count": 7,
   "metadata": {},
   "outputs": [
    {
     "name": "stdout",
     "output_type": "stream",
     "text": [
      "torch.Size([27, 11, 64]) -> torch.Size([27, 11, 64])\n"
     ]
    }
   ],
   "source": [
    "# Basic Building Block\n",
    "\n",
    "b = Block(d_model=d_model, n_heads=n_heads, d_head=d_head, d_inner=d_inner).to(device)\n",
    "\n",
    "x = torch.randn(batch_size, c, d_model).to(device)\n",
    "x_new = b(x)\n",
    "\n",
    "print(f\"{x.shape} -> {x_new.shape}\")"
   ]
  },
  {
   "cell_type": "code",
   "execution_count": 8,
   "metadata": {},
   "outputs": [
    {
     "name": "stdout",
     "output_type": "stream",
     "text": [
      "torch.Size([27, 11]) -> torch.Size([27, 11, 26])\n"
     ]
    }
   ],
   "source": [
    "# Language Model\n",
    "\n",
    "lm = LanguageModel(vocab_size=vocab_size, d_model=d_model, n_heads=n_heads, n_blocks=n_blocks).to(device)\n",
    "\n",
    "x = torch.randint(0, vocab_size, (batch_size, c)).to(device)\n",
    "x_new, _ = lm(x)\n",
    "\n",
    "print(f\"{x.shape} -> {x_new.shape}\")"
   ]
  }
 ],
 "metadata": {
  "kernelspec": {
   "display_name": "nano-gpt",
   "language": "python",
   "name": "python3"
  },
  "language_info": {
   "codemirror_mode": {
    "name": "ipython",
    "version": 3
   },
   "file_extension": ".py",
   "mimetype": "text/x-python",
   "name": "python",
   "nbconvert_exporter": "python",
   "pygments_lexer": "ipython3",
   "version": "3.10.9"
  },
  "orig_nbformat": 4
 },
 "nbformat": 4,
 "nbformat_minor": 2
}
