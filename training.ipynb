{
 "cells": [
  {
   "cell_type": "code",
   "execution_count": null,
   "metadata": {},
   "outputs": [],
   "source": [
    "import matplotlib.pyplot as plt\n",
    "import torch\n",
    "import time\n",
    "\n",
    "from model import *\n",
    "\n",
    "USE_LARGE_MODEL = True"
   ]
  },
  {
   "cell_type": "code",
   "execution_count": null,
   "metadata": {},
   "outputs": [],
   "source": [
    "torch.manual_seed(42)\n",
    "\n",
    "# Model parameters (small)\n",
    "block_size = 8\n",
    "batch_size = 32\n",
    "d_model=32\n",
    "n_heads=4\n",
    "d_head=d_model//n_heads\n",
    "n_blocks=4\n",
    "d_inner=4*d_model\n",
    "dropout=0.2\n",
    "\n",
    "if USE_LARGE_MODEL:\n",
    "    # Model parameters (large)\n",
    "    block_size = 256\n",
    "    batch_size = 64\n",
    "    d_model=384\n",
    "    n_heads=6\n",
    "    d_head=d_model//n_heads\n",
    "    n_blocks=6\n",
    "    d_inner=4*d_model\n",
    "    dropout=0.2\n",
    "\n",
    "# Training parameters\n",
    "max_iters = 5000\n",
    "eval_interval = 50\n",
    "device = torch.device(\"cuda\" if torch.cuda.is_available() else \"cpu\")"
   ]
  },
  {
   "cell_type": "code",
   "execution_count": null,
   "metadata": {},
   "outputs": [],
   "source": [
    "# load data\n",
    "with open(\"data/tiny_shakespeare.txt\", \"r\") as f:\n",
    "    text = f.read()\n",
    "print(text[:200])"
   ]
  },
  {
   "cell_type": "code",
   "execution_count": null,
   "metadata": {},
   "outputs": [],
   "source": [
    "# tokenizer\n",
    "chars = sorted(list(set(text)))\n",
    "vocab_size = len(chars)\n",
    "\n",
    "c2i = {c: i for i, c in enumerate(chars)}\n",
    "i2c = {i: c for i, c in enumerate(chars)}\n",
    "\n",
    "encode = lambda s: [c2i[c] for c in s]\n",
    "decode = lambda l: \"\".join([i2c[i] for i in l])"
   ]
  },
  {
   "cell_type": "code",
   "execution_count": null,
   "metadata": {},
   "outputs": [],
   "source": [
    "# train and test data\n",
    "data = torch.tensor(encode(text), dtype=torch.long)\n",
    "n = int(len(data) * 0.9)\n",
    "\n",
    "train_data = data[:n]\n",
    "val_data = data[n:]"
   ]
  },
  {
   "cell_type": "code",
   "execution_count": null,
   "metadata": {},
   "outputs": [],
   "source": [
    "# data loader\n",
    "def get_batch(split):\n",
    "    data = train_data if split == \"train\" else val_data\n",
    "    ix = torch.randint(len(data) - block_size, (batch_size,))\n",
    "    x = torch.stack([data[i : i + block_size] for i in ix])\n",
    "    y = torch.stack([data[i + 1 : i + block_size + 1] for i in ix])\n",
    "    x, y = x.to(device), y.to(device)\n",
    "    return x, y"
   ]
  },
  {
   "cell_type": "code",
   "execution_count": null,
   "metadata": {},
   "outputs": [],
   "source": [
    "# loss\n",
    "def estimate_loss(model, eval_iters=200):\n",
    "    out = {}\n",
    "    model.eval()\n",
    "    for split in [\"train\", \"val\"]:\n",
    "        losses = torch.zeros(eval_iters)\n",
    "        for i in range(eval_iters):\n",
    "            x, y = get_batch(split)\n",
    "            logitis, loss = model(x, y)\n",
    "            losses[i] = loss.item()\n",
    "        out[split] = losses.mean()\n",
    "    model.train()\n",
    "    return out"
   ]
  },
  {
   "cell_type": "code",
   "execution_count": null,
   "metadata": {},
   "outputs": [],
   "source": [
    "# model\n",
    "language_model = LanguageModel(\n",
    "    vocab_size=vocab_size,\n",
    "    block_size=block_size,\n",
    "    d_model=d_model,\n",
    "    n_heads=n_heads,\n",
    "    d_head=d_head,\n",
    "    n_blocks=n_blocks,\n",
    "    d_inner=d_inner,\n",
    "    dropout=dropout,\n",
    ").to(device)\n",
    "\n",
    "# number of parameters\n",
    "n_params = sum(p.numel() for p in language_model.parameters() if p.requires_grad)"
   ]
  },
  {
   "cell_type": "code",
   "execution_count": null,
   "metadata": {},
   "outputs": [],
   "source": [
    "# optimizer\n",
    "optimizer = torch.optim.AdamW(language_model.parameters(), lr=0.001)"
   ]
  },
  {
   "cell_type": "code",
   "execution_count": null,
   "metadata": {},
   "outputs": [],
   "source": [
    "# training\n",
    "t_start = time.time()\n",
    "loss_history = {\n",
    "    \"train\": [],\n",
    "    \"val\": [],\n",
    "    \"step\": [],\n",
    "}\n",
    "for iter in range(max_iters):\n",
    "\n",
    "    # evaluate current performance\n",
    "    if iter % eval_interval == 0:\n",
    "        losses = estimate_loss(language_model)\n",
    "        ts = (time.time() - t_start)\n",
    "        print(f\"step: {iter:04d}, ts: {ts/60:.2f} min, train loss: {losses['train']:.4f}, val loss: {losses['val']:.4f}\", end=\"\\r\")\n",
    "        loss_history[\"train\"].append(float(losses[\"train\"]))\n",
    "        loss_history[\"val\"].append(float(losses[\"val\"]))\n",
    "        loss_history[\"step\"].append(iter)\n",
    "        \n",
    "    # next batch\n",
    "    xb, yb = get_batch(\"train\")\n",
    "\n",
    "    # train\n",
    "    logitis, loss = language_model(xb, yb)\n",
    "    optimizer.zero_grad(set_to_none=True)\n",
    "    loss.backward()\n",
    "    optimizer.step()\n",
    "\n",
    "print(\"\\n\")\n",
    "print(f\"Number of parameters: {n_params}\")\n",
    "print(f\"Training time:        {(time.time() - t_start)/60:.2f} min\")"
   ]
  },
  {
   "cell_type": "code",
   "execution_count": null,
   "metadata": {},
   "outputs": [],
   "source": [
    "plt.plot(loss_history[\"step\"], loss_history[\"train\"], label=\"train\")\n",
    "plt.plot(loss_history[\"step\"], loss_history[\"val\"], label=\"val\")\n",
    "plt.legend()\n",
    "plt.xlabel(\"step\")\n",
    "plt.ylabel(\"loss\")\n",
    "plt.title(\"Loss history\")\n",
    "plt.show()"
   ]
  },
  {
   "cell_type": "code",
   "execution_count": null,
   "metadata": {},
   "outputs": [],
   "source": [
    "# generate text\n",
    "context = torch.zeros(1, 1, dtype=torch.long).to(device)\n",
    "ret = language_model.generate(context, max_new_tokens=500)[0].tolist()\n",
    "print(decode(ret))"
   ]
  }
 ],
 "metadata": {
  "kernelspec": {
   "display_name": "nano-gpt",
   "language": "python",
   "name": "python3"
  },
  "language_info": {
   "codemirror_mode": {
    "name": "ipython",
    "version": 3
   },
   "file_extension": ".py",
   "mimetype": "text/x-python",
   "name": "python",
   "nbconvert_exporter": "python",
   "pygments_lexer": "ipython3",
   "version": "3.10.9"
  },
  "orig_nbformat": 4
 },
 "nbformat": 4,
 "nbformat_minor": 2
}
